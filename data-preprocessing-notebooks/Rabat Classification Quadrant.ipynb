{
 "cells": [
  {
   "cell_type": "code",
   "execution_count": 5,
   "id": "2dc1ef3f",
   "metadata": {
    "collapsed": true
   },
   "outputs": [
    {
     "name": "stdout",
     "output_type": "stream",
     "text": [
      "Collecting reverse_geocoder\n",
      "  Downloading reverse_geocoder-1.5.1.tar.gz (2.2 MB)\n",
      "Requirement already satisfied: numpy>=1.11.0 in d:\\carrier\\akumenia\\datascience-bmci\\env\\lib\\site-packages (from reverse_geocoder) (1.22.3)\n",
      "Requirement already satisfied: scipy>=0.17.1 in d:\\carrier\\akumenia\\datascience-bmci\\env\\lib\\site-packages (from reverse_geocoder) (1.8.1)\n",
      "Building wheels for collected packages: reverse-geocoder\n",
      "  Building wheel for reverse-geocoder (setup.py): started\n",
      "  Building wheel for reverse-geocoder (setup.py): finished with status 'done'\n",
      "  Created wheel for reverse-geocoder: filename=reverse_geocoder-1.5.1-py3-none-any.whl size=2268088 sha256=77d01a410a559781e9d075191968c1ec0f81ff910a79d0a0c5901047ac5e41b6\n",
      "  Stored in directory: c:\\users\\salah\\appdata\\local\\pip\\cache\\wheels\\10\\05\\be\\d2edd4ff207cf625ce8bd20cf1493c27838828e8920aff9f4e\n",
      "Successfully built reverse-geocoder\n",
      "Installing collected packages: reverse-geocoder\n",
      "Successfully installed reverse-geocoder-1.5.1\n"
     ]
    }
   ],
   "source": [
    "# pip install geocoder\n",
    "!pip install reverse_geocoder"
   ]
  },
  {
   "cell_type": "code",
   "execution_count": 1,
   "id": "7b2dc83d",
   "metadata": {},
   "outputs": [],
   "source": [
    "import geopandas as gpd\n",
    "import pandas as pd\n",
    "import numpy as np\n",
    "from shapely.geometry import Point\n",
    "\n",
    "import geocoder\n",
    "import time\n",
    "\n",
    "import reverse_geocoder as rg\n",
    "\n",
    "import matplotlib.pyplot as plt\n"
   ]
  },
  {
   "cell_type": "code",
   "execution_count": 39,
   "id": "c92a652f",
   "metadata": {},
   "outputs": [
    {
     "data": {
      "text/html": [
       "<div>\n",
       "<style scoped>\n",
       "    .dataframe tbody tr th:only-of-type {\n",
       "        vertical-align: middle;\n",
       "    }\n",
       "\n",
       "    .dataframe tbody tr th {\n",
       "        vertical-align: top;\n",
       "    }\n",
       "\n",
       "    .dataframe thead th {\n",
       "        text-align: right;\n",
       "    }\n",
       "</style>\n",
       "<table border=\"1\" class=\"dataframe\">\n",
       "  <thead>\n",
       "    <tr style=\"text-align: right;\">\n",
       "      <th></th>\n",
       "      <th>Ville</th>\n",
       "      <th>geometry</th>\n",
       "    </tr>\n",
       "  </thead>\n",
       "  <tbody>\n",
       "    <tr>\n",
       "      <th>0</th>\n",
       "      <td>Tanger-Assilah</td>\n",
       "      <td>POLYGON ((-5.71467 35.61432, -5.71365 35.61831...</td>\n",
       "    </tr>\n",
       "    <tr>\n",
       "      <th>1</th>\n",
       "      <td>Tétouan</td>\n",
       "      <td>POLYGON ((-5.26616 35.60680, -5.27095 35.60592...</td>\n",
       "    </tr>\n",
       "    <tr>\n",
       "      <th>2</th>\n",
       "      <td>M'Diq-Fnideq</td>\n",
       "      <td>POLYGON ((-5.26616 35.60680, -5.26659 35.60775...</td>\n",
       "    </tr>\n",
       "    <tr>\n",
       "      <th>3</th>\n",
       "      <td>Berkane</td>\n",
       "      <td>POLYGON ((-2.20883 35.04129, -2.20879 35.04151...</td>\n",
       "    </tr>\n",
       "    <tr>\n",
       "      <th>4</th>\n",
       "      <td>Driouch</td>\n",
       "      <td>POLYGON ((-3.19626 35.22681, -3.19762 35.22610...</td>\n",
       "    </tr>\n",
       "    <tr>\n",
       "      <th>...</th>\n",
       "      <td>...</td>\n",
       "      <td>...</td>\n",
       "    </tr>\n",
       "    <tr>\n",
       "      <th>70</th>\n",
       "      <td>Es-Semara</td>\n",
       "      <td>POLYGON ((-8.63820 27.14359, -8.66792 27.14083...</td>\n",
       "    </tr>\n",
       "    <tr>\n",
       "      <th>71</th>\n",
       "      <td>Laâyoune</td>\n",
       "      <td>POLYGON ((-12.29973 26.86303, -12.36875 26.922...</td>\n",
       "    </tr>\n",
       "    <tr>\n",
       "      <th>72</th>\n",
       "      <td>Tarfaya</td>\n",
       "      <td>POLYGON ((-11.48480 27.80744, -11.51013 27.818...</td>\n",
       "    </tr>\n",
       "    <tr>\n",
       "      <th>73</th>\n",
       "      <td>Aousserd</td>\n",
       "      <td>POLYGON ((-13.11220 22.76925, -13.14540 22.773...</td>\n",
       "    </tr>\n",
       "    <tr>\n",
       "      <th>74</th>\n",
       "      <td>Oued Ed-Dahab</td>\n",
       "      <td>POLYGON ((-11.97403 24.49590, -11.99997 24.494...</td>\n",
       "    </tr>\n",
       "  </tbody>\n",
       "</table>\n",
       "<p>75 rows × 2 columns</p>\n",
       "</div>"
      ],
      "text/plain": [
       "             Ville                                           geometry\n",
       "0   Tanger-Assilah  POLYGON ((-5.71467 35.61432, -5.71365 35.61831...\n",
       "1          Tétouan  POLYGON ((-5.26616 35.60680, -5.27095 35.60592...\n",
       "2     M'Diq-Fnideq  POLYGON ((-5.26616 35.60680, -5.26659 35.60775...\n",
       "3          Berkane  POLYGON ((-2.20883 35.04129, -2.20879 35.04151...\n",
       "4          Driouch  POLYGON ((-3.19626 35.22681, -3.19762 35.22610...\n",
       "..             ...                                                ...\n",
       "70       Es-Semara  POLYGON ((-8.63820 27.14359, -8.66792 27.14083...\n",
       "71        Laâyoune  POLYGON ((-12.29973 26.86303, -12.36875 26.922...\n",
       "72         Tarfaya  POLYGON ((-11.48480 27.80744, -11.51013 27.818...\n",
       "73        Aousserd  POLYGON ((-13.11220 22.76925, -13.14540 22.773...\n",
       "74   Oued Ed-Dahab  POLYGON ((-11.97403 24.49590, -11.99997 24.494...\n",
       "\n",
       "[75 rows x 2 columns]"
      ]
     },
     "execution_count": 39,
     "metadata": {},
     "output_type": "execute_result"
    }
   ],
   "source": [
    "# Open the shapefile\n",
    "Provinces = gpd.GeoDataFrame.from_file('PROVINCES HCP.json')\n",
    "Provinces = Provinces[['Nom_Provin','geometry']]\n",
    "Provinces.rename(columns={'Nom_Provin':'Ville'},inplace=True)\n",
    "Provinces\n",
    "\n",
    "import geopandas as gpd\n",
    "# Open the shapefile\n",
    "Provinces = gpd.GeoDataFrame.from_file('shapefile.json')\n",
    "Provinces"
   ]
  },
  {
   "cell_type": "code",
   "execution_count": 20,
   "id": "96dd1b36",
   "metadata": {},
   "outputs": [],
   "source": [
    "# Select Rabat Polygon only\n",
    "Provinces = Provinces[Provinces.Ville==\"Rabat\"]\n",
    "\n",
    "#Import Data and preparing geodataframe\n",
    "data = pd.read_csv('data/working/quadrant/macro_table_Quadrant_data_rabat/macro_table_Quadrant_data_rabat.csv')\n",
    "# data['latitude']=data.apply(lambda x: str(x[\"location\"]).replace(\"{'latitude': \",'').replace(\" 'longitude': \",'').replace(\"}\",'').split(',')[0], axis=1)\n",
    "# data['longitude']=data.apply(lambda x: str(x[\"location\"]).replace(\"{'latitude': \",'').replace(\" 'longitude': \",'').replace(\"}\",'').split(',')[1], axis=1)\n",
    "# data['latitude']=data['latitude'].astype(float)\n",
    "# data\n",
    "data['longitude']=data['longitude'].astype(float)\n",
    "data['coords'] = list(zip(data['longitude'],data['latitude']))\n",
    "data['coords'] = data['coords'].apply(Point)\n",
    "data"
   ]
  },
  {
   "cell_type": "code",
   "execution_count": 28,
   "id": "8f524087",
   "metadata": {},
   "outputs": [],
   "source": [
    "start = time.time()\n",
    "#Select Rabat Polygon only\n",
    "# Provinces = Provinces[Provinces.Ville==\"Rabat\"]\n",
    "\n",
    "# #Import Data and preparing geodataframe\n",
    "# data = pd.read_csv('data/working/Irys/macro_table_Irys_data_rabat/macro_table_Irys_data_rabat.csv')\n",
    "# # data['latitude']=data.apply(lambda x: str(x[\"location\"]).replace(\"{'latitude': \",'').replace(\" 'longitude': \",'').replace(\"}\",'').split(',')[0], axis=1)\n",
    "# # data['longitude']=data.apply(lambda x: str(x[\"location\"]).replace(\"{'latitude': \",'').replace(\" 'longitude': \",'').replace(\"}\",'').split(',')[1], axis=1)\n",
    "# # data['latitude']=data['latitude'].astype(float)\n",
    "# # data\n",
    "# data['longitude']=data['longitude'].astype(float)\n",
    "# data['coords'] = list(zip(data['longitude'],data['latitude']))\n",
    "# data['coords'] = data['coords'].apply(Point)\n",
    "\n",
    "import geopandas as gpd\n",
    "# Creation d'une \n",
    "datageo = gpd.GeoDataFrame(data, geometry='coords', crs=Provinces.crs)\n",
    "# Perform spatial join to match points and polygons\n",
    "datageo = gpd.tools.sjoin(datageo, Provinces, predicate=\"within\", how='left')\n",
    "\n",
    "datageo.drop(columns={'index_right'},inplace=True)\n",
    "end = time.time()"
   ]
  },
  {
   "cell_type": "code",
   "execution_count": 29,
   "id": "81c2a969",
   "metadata": {},
   "outputs": [],
   "source": [
    "regions = gpd.GeoDataFrame.from_file('geojson_MA.json')\n"
   ]
  },
  {
   "cell_type": "code",
   "execution_count": 30,
   "id": "397679ce",
   "metadata": {},
   "outputs": [
    {
     "data": {
      "text/plain": [
       "145.27101922035217"
      ]
     },
     "execution_count": 30,
     "metadata": {},
     "output_type": "execute_result"
    }
   ],
   "source": [
    "end-start"
   ]
  },
  {
   "cell_type": "code",
   "execution_count": 41,
   "id": "e0da32fa",
   "metadata": {},
   "outputs": [
    {
     "data": {
      "text/plain": [
       "Rabat        1992908\n",
       "Not_Rabat       5384\n",
       "Name: Ville, dtype: int64"
      ]
     },
     "execution_count": 41,
     "metadata": {},
     "output_type": "execute_result"
    }
   ],
   "source": [
    "datageo.fillna('Not_Rabat',inplace=True)\n",
    "pnt_Rabat = datageo[datageo.Ville=='Rabat']\n",
    "datageo.Ville.value_counts()"
   ]
  },
  {
   "cell_type": "markdown",
   "id": "d4f3b4c9",
   "metadata": {},
   "source": [
    "### Visualization"
   ]
  },
  {
   "cell_type": "code",
   "execution_count": 37,
   "id": "88ba0f05",
   "metadata": {},
   "outputs": [
    {
     "data": {
      "image/png": "[encoded data removed]",
      "text/plain": [
       "<Figure size 432x288 with 1 Axes>"
      ]
     },
     "metadata": {
      "needs_background": "light"
     },
     "output_type": "display_data"
    }
   ],
   "source": [
    "\n",
    "base = Provinces.boundary.plot(linewidth=1, edgecolor=\"black\")\n",
    "pnt_Rabat.plot(ax=base, linewidth=1, color=\"red\", markersize=3S)\n",
    "plt.show()"
   ]
  },
  {
   "cell_type": "code",
   "execution_count": 22,
   "id": "a1648973",
   "metadata": {},
   "outputs": [
    {
     "data": {
      "text/html": [
       "<div>\n",
       "<style scoped>\n",
       "    .dataframe tbody tr th:only-of-type {\n",
       "        vertical-align: middle;\n",
       "    }\n",
       "\n",
       "    .dataframe tbody tr th {\n",
       "        vertical-align: top;\n",
       "    }\n",
       "\n",
       "    .dataframe thead th {\n",
       "        text-align: right;\n",
       "    }\n",
       "</style>\n",
       "<table border=\"1\" class=\"dataframe\">\n",
       "  <thead>\n",
       "    <tr style=\"text-align: right;\">\n",
       "      <th></th>\n",
       "      <th>deviceId</th>\n",
       "      <th>latitude</th>\n",
       "      <th>longitude</th>\n",
       "      <th>datetime</th>\n",
       "      <th>day</th>\n",
       "      <th>hour</th>\n",
       "      <th>coords</th>\n",
       "      <th>Ville</th>\n",
       "    </tr>\n",
       "  </thead>\n",
       "  <tbody>\n",
       "    <tr>\n",
       "      <th>0</th>\n",
       "      <td>9991d70c-a4c0-4b1c-97b1-3e24450404ed</td>\n",
       "      <td>33.97714</td>\n",
       "      <td>-6.82065</td>\n",
       "      <td>2022-04-23T08:59:13.000Z</td>\n",
       "      <td>23</td>\n",
       "      <td>8</td>\n",
       "      <td>POINT (-6.82065 33.97714)</td>\n",
       "      <td>Rabat</td>\n",
       "    </tr>\n",
       "    <tr>\n",
       "      <th>1</th>\n",
       "      <td>99a80f48-0eac-46bf-9d5f-261fe6e34623</td>\n",
       "      <td>33.97458</td>\n",
       "      <td>-6.88802</td>\n",
       "      <td>2022-04-23T03:37:39.000Z</td>\n",
       "      <td>23</td>\n",
       "      <td>3</td>\n",
       "      <td>POINT (-6.88802 33.97458)</td>\n",
       "      <td>Rabat</td>\n",
       "    </tr>\n",
       "    <tr>\n",
       "      <th>2</th>\n",
       "      <td>99a80f48-0eac-46bf-9d5f-261fe6e34623</td>\n",
       "      <td>33.97455</td>\n",
       "      <td>-6.88799</td>\n",
       "      <td>2022-04-23T22:01:05.000Z</td>\n",
       "      <td>23</td>\n",
       "      <td>22</td>\n",
       "      <td>POINT (-6.88799 33.97455)</td>\n",
       "      <td>Rabat</td>\n",
       "    </tr>\n",
       "    <tr>\n",
       "      <th>3</th>\n",
       "      <td>99a80f48-0eac-46bf-9d5f-261fe6e34623</td>\n",
       "      <td>33.97458</td>\n",
       "      <td>-6.88797</td>\n",
       "      <td>2022-04-23T22:11:33.000Z</td>\n",
       "      <td>23</td>\n",
       "      <td>22</td>\n",
       "      <td>POINT (-6.88797 33.97458)</td>\n",
       "      <td>Rabat</td>\n",
       "    </tr>\n",
       "    <tr>\n",
       "      <th>4</th>\n",
       "      <td>99a80f48-0eac-46bf-9d5f-261fe6e34623</td>\n",
       "      <td>33.97458</td>\n",
       "      <td>-6.88802</td>\n",
       "      <td>2022-04-23T02:08:17.000Z</td>\n",
       "      <td>23</td>\n",
       "      <td>2</td>\n",
       "      <td>POINT (-6.88802 33.97458)</td>\n",
       "      <td>Rabat</td>\n",
       "    </tr>\n",
       "    <tr>\n",
       "      <th>...</th>\n",
       "      <td>...</td>\n",
       "      <td>...</td>\n",
       "      <td>...</td>\n",
       "      <td>...</td>\n",
       "      <td>...</td>\n",
       "      <td>...</td>\n",
       "      <td>...</td>\n",
       "      <td>...</td>\n",
       "    </tr>\n",
       "    <tr>\n",
       "      <th>3000064</th>\n",
       "      <td>3743b17f-beb3-4a87-854f-ab79df39f19e</td>\n",
       "      <td>33.98528</td>\n",
       "      <td>-6.80674</td>\n",
       "      <td>2022-04-29T22:58:35.000Z</td>\n",
       "      <td>29</td>\n",
       "      <td>22</td>\n",
       "      <td>POINT (-6.80674 33.98528)</td>\n",
       "      <td>Rabat</td>\n",
       "    </tr>\n",
       "    <tr>\n",
       "      <th>3000065</th>\n",
       "      <td>43fe1c35-067e-4fbe-ae2c-51a956cffeb3</td>\n",
       "      <td>34.00143</td>\n",
       "      <td>-6.81256</td>\n",
       "      <td>2022-04-27T03:55:41.000Z</td>\n",
       "      <td>27</td>\n",
       "      <td>3</td>\n",
       "      <td>POINT (-6.81256 34.00143)</td>\n",
       "      <td>Rabat</td>\n",
       "    </tr>\n",
       "    <tr>\n",
       "      <th>3000066</th>\n",
       "      <td>98fa7980-378b-4cf9-be06-157be88784ec</td>\n",
       "      <td>33.99300</td>\n",
       "      <td>-6.81024</td>\n",
       "      <td>2022-04-15T01:02:05.000Z</td>\n",
       "      <td>15</td>\n",
       "      <td>1</td>\n",
       "      <td>POINT (-6.81024 33.99300)</td>\n",
       "      <td>Rabat</td>\n",
       "    </tr>\n",
       "    <tr>\n",
       "      <th>3000067</th>\n",
       "      <td>f0f8968f-ace1-4728-9f4d-3baf65bbaa5e</td>\n",
       "      <td>33.97999</td>\n",
       "      <td>-6.88480</td>\n",
       "      <td>2022-04-26T18:47:54.000Z</td>\n",
       "      <td>26</td>\n",
       "      <td>18</td>\n",
       "      <td>POINT (-6.88480 33.97999)</td>\n",
       "      <td>Rabat</td>\n",
       "    </tr>\n",
       "    <tr>\n",
       "      <th>3000068</th>\n",
       "      <td>53f85417-7b63-4501-96ab-6c46ef2aaa7c</td>\n",
       "      <td>33.96376</td>\n",
       "      <td>-6.86024</td>\n",
       "      <td>2022-04-27T22:11:30.000Z</td>\n",
       "      <td>27</td>\n",
       "      <td>22</td>\n",
       "      <td>POINT (-6.86024 33.96376)</td>\n",
       "      <td>Rabat</td>\n",
       "    </tr>\n",
       "  </tbody>\n",
       "</table>\n",
       "<p>3000069 rows × 8 columns</p>\n",
       "</div>"
      ],
      "text/plain": [
       "                                     deviceId  latitude  longitude  \\\n",
       "0        9991d70c-a4c0-4b1c-97b1-3e24450404ed  33.97714   -6.82065   \n",
       "1        99a80f48-0eac-46bf-9d5f-261fe6e34623  33.97458   -6.88802   \n",
       "2        99a80f48-0eac-46bf-9d5f-261fe6e34623  33.97455   -6.88799   \n",
       "3        99a80f48-0eac-46bf-9d5f-261fe6e34623  33.97458   -6.88797   \n",
       "4        99a80f48-0eac-46bf-9d5f-261fe6e34623  33.97458   -6.88802   \n",
       "...                                       ...       ...        ...   \n",
       "3000064  3743b17f-beb3-4a87-854f-ab79df39f19e  33.98528   -6.80674   \n",
       "3000065  43fe1c35-067e-4fbe-ae2c-51a956cffeb3  34.00143   -6.81256   \n",
       "3000066  98fa7980-378b-4cf9-be06-157be88784ec  33.99300   -6.81024   \n",
       "3000067  f0f8968f-ace1-4728-9f4d-3baf65bbaa5e  33.97999   -6.88480   \n",
       "3000068  53f85417-7b63-4501-96ab-6c46ef2aaa7c  33.96376   -6.86024   \n",
       "\n",
       "                         datetime  day  hour                     coords  Ville  \n",
       "0        2022-04-23T08:59:13.000Z   23     8  POINT (-6.82065 33.97714)  Rabat  \n",
       "1        2022-04-23T03:37:39.000Z   23     3  POINT (-6.88802 33.97458)  Rabat  \n",
       "2        2022-04-23T22:01:05.000Z   23    22  POINT (-6.88799 33.97455)  Rabat  \n",
       "3        2022-04-23T22:11:33.000Z   23    22  POINT (-6.88797 33.97458)  Rabat  \n",
       "4        2022-04-23T02:08:17.000Z   23     2  POINT (-6.88802 33.97458)  Rabat  \n",
       "...                           ...  ...   ...                        ...    ...  \n",
       "3000064  2022-04-29T22:58:35.000Z   29    22  POINT (-6.80674 33.98528)  Rabat  \n",
       "3000065  2022-04-27T03:55:41.000Z   27     3  POINT (-6.81256 34.00143)  Rabat  \n",
       "3000066  2022-04-15T01:02:05.000Z   15     1  POINT (-6.81024 33.99300)  Rabat  \n",
       "3000067  2022-04-26T18:47:54.000Z   26    18  POINT (-6.88480 33.97999)  Rabat  \n",
       "3000068  2022-04-27T22:11:30.000Z   27    22  POINT (-6.86024 33.96376)  Rabat  \n",
       "\n",
       "[3000069 rows x 8 columns]"
      ]
     },
     "execution_count": 22,
     "metadata": {},
     "output_type": "execute_result"
    }
   ],
   "source": [
    "datageo"
   ]
  },
  {
   "cell_type": "code",
   "execution_count": 23,
   "id": "c0687de8",
   "metadata": {},
   "outputs": [],
   "source": [
    "datageo.to_csv('data/working/quadrant/macro_table_Quadrant_data_rabat/QuadrantData_Clean.csv', header=True)"
   ]
  },
  {
   "cell_type": "code",
   "execution_count": null,
   "id": "f84d2e72",
   "metadata": {},
   "outputs": [],
   "source": [
    "import plotly.express as px \n",
    "\n",
    "pandas_df=df\n",
    "\n",
    "fig = px.scatter_mapbox(pandas_df.loc[:10000,:], lat=\"latitude\", lon=\"longitude\", \n",
    "                  size_max=15, zoom=10,\n",
    "                  mapbox_style=\"carto-positron\")\n",
    "fig.show()"
   ]
  }
 ],
 "metadata": {
  "kernelspec": {
   "display_name": "Python 3 (ipykernel)",
   "language": "python",
   "name": "python3"
  },
  "language_info": {
   "codemirror_mode": {
    "name": "ipython",
    "version": 3
   },
   "file_extension": ".py",
   "mimetype": "text/x-python",
   "name": "python",
   "nbconvert_exporter": "python",
   "pygments_lexer": "ipython3",
   "version": "3.9.12"
  }
 },
 "nbformat": 4,
 "nbformat_minor": 5
}
