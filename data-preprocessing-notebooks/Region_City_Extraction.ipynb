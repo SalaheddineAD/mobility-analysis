{
 "cells": [
  {
   "cell_type": "code",
   "execution_count": null,
   "id": "856fee83",
   "metadata": {},
   "outputs": [],
   "source": [
    "!pip install geocoder\n",
    "!pip install reverse_geocoder\n",
    "!pip install shapely"
   ]
  },
  {
   "cell_type": "code",
   "execution_count": 110,
   "id": "f8396915",
   "metadata": {},
   "outputs": [],
   "source": [
    "!pip install geocoder\n",
    "!pip install reverse_geocoder\n",
    "!pip install shapely\n",
    "import geopandas as gpd\n",
    "import pandas as pd\n",
    "import numpy as np\n",
    "from shapely.geometry import Point\n",
    "\n",
    "import geocoder\n",
    "import time\n",
    "\n",
    "import reverse_geocoder as rg\n",
    "\n",
    "import matplotlib.pyplot as plt\n"
   ]
  },
  {
   "cell_type": "markdown",
   "id": "3ca8d294",
   "metadata": {},
   "source": [
    "## USING geocoder ( SO SLOW DONT RUN CODE)"
   ]
  },
  {
   "cell_type": "code",
   "execution_count": 109,
   "id": "c7396508",
   "metadata": {},
   "outputs": [
    {
     "data": {
      "text/plain": [
       "{'accuracy': 0.001,\n",
       " 'address': \"Bir Anzarane ⴱⵉⵔⴰⵏⵣⴰⵔⴰⵏ بئر أنزران, caïdat d'Bir Anzarane, Dakhla-Oued Ed-Dahab ⴷⴰⵅⵍⴰ-ⵡⴰⴷ ⴷⴰⵀⴰⴱ الداخلة-وادي الذهب, Maroc / ⵍⵎⵖⵔⵉⴱ / المغرب\",\n",
       " 'bbox': {'northeast': [24.6832285, -14.0717693],\n",
       "  'southwest': [23.5545793, -15.4084647]},\n",
       " 'confidence': 1,\n",
       " 'country': 'Maroc / ⵍⵎⵖⵔⵉⴱ / المغرب',\n",
       " 'country_code': 'ma',\n",
       " 'icon': 'https://nominatim.openstreetmap.org/ui/mapicons/poi_boundary_administrative.p.20.png',\n",
       " 'importance': 0.001,\n",
       " 'lat': 23.8885639,\n",
       " 'lng': -14.5313258,\n",
       " 'municipality': \"caïdat d'Bir Anzarane\",\n",
       " 'ok': True,\n",
       " 'osm_id': 3594878,\n",
       " 'osm_type': 'relation',\n",
       " 'place_id': 284133265,\n",
       " 'place_rank': 16,\n",
       " 'quality': 'administrative',\n",
       " 'raw': {'place_id': 284133265,\n",
       "  'licence': 'Data © OpenStreetMap contributors, ODbL 1.0. https://osm.org/copyright',\n",
       "  'osm_type': 'relation',\n",
       "  'osm_id': 3594878,\n",
       "  'boundingbox': ['23.5545793', '24.6832285', '-15.4084647', '-14.0717693'],\n",
       "  'lat': '23.8885639',\n",
       "  'lon': '-14.5313258',\n",
       "  'display_name': \"Bir Anzarane ⴱⵉⵔⴰⵏⵣⴰⵔⴰⵏ بئر أنزران, caïdat d'Bir Anzarane, Dakhla-Oued Ed-Dahab ⴷⴰⵅⵍⴰ-ⵡⴰⴷ ⴷⴰⵀⴰⴱ الداخلة-وادي الذهب, Maroc / ⵍⵎⵖⵔⵉⴱ / المغرب\",\n",
       "  'place_rank': 16,\n",
       "  'category': 'boundary',\n",
       "  'type': 'administrative',\n",
       "  'importance': 0.001,\n",
       "  'icon': 'https://nominatim.openstreetmap.org/ui/mapicons/poi_boundary_administrative.p.20.png',\n",
       "  'address': {'village': 'Bir Anzarane ⴱⵉⵔⴰⵏⵣⴰⵔⴰⵏ بئر أنزران',\n",
       "   'municipality': \"caïdat d'Bir Anzarane\",\n",
       "   'region': 'Dakhla-Oued Ed-Dahab ⴷⴰⵅⵍⴰ-ⵡⴰⴷ ⴷⴰⵀⴰⴱ الداخلة-وادي الذهب',\n",
       "   'ISO3166-2-lvl4': 'MA-12',\n",
       "   'country': 'Maroc / ⵍⵎⵖⵔⵉⴱ / المغرب',\n",
       "   'country_code': 'ma'}},\n",
       " 'status': 'OK',\n",
       " 'type': 'administrative',\n",
       " 'village': 'Bir Anzarane ⴱⵉⵔⴰⵏⵣⴰⵔⴰⵏ بئر أنزران'}"
      ]
     },
     "execution_count": 109,
     "metadata": {},
     "output_type": "execute_result"
    }
   ],
   "source": [
    "#EXEMPLE\n",
    "g = geocoder.osm([24.147738362622874, -14.87164597884633], method='reverse') \n",
    "my_dict = g.json\n",
    "my_dict"
   ]
  },
  {
   "cell_type": "code",
   "execution_count": 2,
   "id": "15d2e3a1",
   "metadata": {},
   "outputs": [],
   "source": [
    "#FUNCTIONS\n",
    "def reverse_geo(coords):\n",
    "    city = ' de city '\n",
    "    region = 'region '\n",
    "    pays = 'pays '\n",
    "    for _,(i,j) in enumerate(coords):\n",
    "        g = geocoder.osm([i,j], method='reverse') \n",
    "        my_dict = g.json['raw']['address']\n",
    "    if 'state_district' in my_dict:\n",
    "        city = str(my_dict['state_district'])\n",
    "    if 'region' in my_dict:\n",
    "        region = str(my_dict['region'])\n",
    "    if 'country' in my_dict:\n",
    "        pays = str(my_dict['country'])\n",
    "    return(city + ',' + region +'@'+ pays)\n",
    "\n",
    "def get_country(text):\n",
    "    country = text.split('@')[1]\n",
    "    country = country.split(' ')[0]\n",
    "    return country\n",
    "\n",
    "def get_city(text):\n",
    "    city = 'city'\n",
    "    if 'de' in text:\n",
    "        city = text.split('de ')[1]\n",
    "    if \"d'\" in text:\n",
    "        city = text.split(\"d'\")[1]\n",
    "    city = city.split(\" \")[0]\n",
    "    return city\n",
    "\n",
    "def get_region(text):\n",
    "    region = text.split(\",\",1)[1]\n",
    "    region = region.split(' ',1)[0]\n",
    "    return region"
   ]
  },
  {
   "cell_type": "code",
   "execution_count": null,
   "id": "91c51db1",
   "metadata": {},
   "outputs": [],
   "source": [
    "start = time.time()\n",
    "data = pd.read_csv('part-00000-tid-8332875100528777397-6a3a4d7b-235c-49d9-b1f1-ce1deeaa1f25-3667-1-c000.csv')\n",
    "data = data.head(1000)\n",
    "##GET ALL DATA ABOUT LOCATION\n",
    "data['raw_info'] = data.apply(lambda x: reverse_geo(x['lat'], x['lng']), axis=1)\n",
    "#data['city_detect']= data['raw_info'].apply(get_city)\n",
    "\n",
    "## EXTRACT REGION\n",
    "data['region']= data['raw_info'].apply(get_region)\n",
    "end = time.time()\n",
    "duree = end-start\n",
    "#data['country']=data['raw_info'].apply(get_country)\n",
    "#data.drop('raw_info', axis = 1, inplace = True) "
   ]
  },
  {
   "cell_type": "code",
   "execution_count": 12,
   "id": "031d214f",
   "metadata": {},
   "outputs": [
    {
     "name": "stdout",
     "output_type": "stream",
     "text": [
      "517.1339647769928\n"
     ]
    }
   ],
   "source": [
    "start = time.time()\n",
    "\n",
    "data = pd.read_csv('part-00000-tid-8332875100528777397-6a3a4d7b-235c-49d9-b1f1-ce1deeaa1f25-3667-1-c000.csv')\n",
    "data = data.head(1000)\n",
    "coords = data[['lat', 'lng']].apply(tuple, axis=1).tolist()\n",
    "\n",
    "results = reverse_geo(coords)\n",
    "data['raw_info'] = results\n",
    "\n",
    "end = time.time()\n",
    "print(end-start)"
   ]
  },
  {
   "cell_type": "code",
   "execution_count": 16,
   "id": "34e0b6d5",
   "metadata": {},
   "outputs": [],
   "source": [
    "data['region']= data['raw_info'].apply(get_region)"
   ]
  },
  {
   "cell_type": "markdown",
   "id": "44131533",
   "metadata": {},
   "source": [
    "8 mins 36 secs for 1000 data \n",
    "\n",
    "3 Hours and half for the whole 24271 dataset"
   ]
  },
  {
   "cell_type": "markdown",
   "id": "22e3bdce",
   "metadata": {},
   "source": [
    "**Conclusion** : High Accuracy, Very Slow ! NOT AN OPTION !"
   ]
  },
  {
   "cell_type": "markdown",
   "id": "4f406eed",
   "metadata": {},
   "source": [
    "## USING Reverse Geo  Github Repo (NOT ACCURATE)"
   ]
  },
  {
   "cell_type": "code",
   "execution_count": 72,
   "id": "095ebf7f",
   "metadata": {},
   "outputs": [],
   "source": [
    "start = time.time()\n",
    "data = pd.read_csv('part-00000-tid-8332875100528777397-6a3a4d7b-235c-49d9-b1f1-ce1deeaa1f25-3667-1-c000.csv')\n",
    "coords = data[['lat', 'lng']].apply(tuple, axis=1).tolist()\n",
    "results = rg.search(coords, mode=1)\n",
    "data['new_ville'] = [x['name'] for x in results]\n",
    "data['region'] = [x['admin1'] for x in results]\n",
    "end = time.time()"
   ]
  },
  {
   "cell_type": "code",
   "execution_count": 73,
   "id": "7088d855",
   "metadata": {},
   "outputs": [
    {
     "data": {
      "text/plain": [
       "2.3736424446105957"
      ]
     },
     "execution_count": 73,
     "metadata": {},
     "output_type": "execute_result"
    }
   ],
   "source": [
    "end-start"
   ]
  },
  {
   "cell_type": "markdown",
   "id": "ea20b33a",
   "metadata": {},
   "source": [
    "2.37 seconds for 24271 rows OMG !"
   ]
  },
  {
   "cell_type": "code",
   "execution_count": 84,
   "id": "3586a0ff",
   "metadata": {},
   "outputs": [
    {
     "data": {
      "text/plain": [
       "104"
      ]
     },
     "execution_count": 84,
     "metadata": {},
     "output_type": "execute_result"
    }
   ],
   "source": [
    "count = data.new_ville.value_counts()\n",
    "\n",
    "count[count<=107].count()"
   ]
  },
  {
   "cell_type": "code",
   "execution_count": 86,
   "id": "b7f6a0bf",
   "metadata": {},
   "outputs": [
    {
     "data": {
      "text/plain": [
       "Grand Casablanca                    5566\n",
       "Rabat-Sale-Zemmour-Zaer             3426\n",
       "Marrakech-Tensift-Al Haouz          3303\n",
       "Tanger-Tetouan                      2171\n",
       "Fes-Boulemane                       1736\n",
       "Oriental                            1690\n",
       "Souss-Massa-Draa                    1409\n",
       "Meknes-Tafilalet                    1171\n",
       "Doukkala-Abda                        966\n",
       "Oued ed Dahab-Lagouira               722\n",
       "Gharb-Chrarda-Beni Hssen             712\n",
       "Tadla-Azilal                         475\n",
       "Chaouia-Ouardigha                    411\n",
       "Oued Ed-Dahab-Lagouira               254\n",
       "Taza-Al Hoceima-Taounate             202\n",
       "                                      43\n",
       "Guelmim-Es Smara                       6\n",
       "Laayoune-Boujdour-Sakia El Hamra       3\n",
       "Ceuta                                  3\n",
       "Andalusia                              2\n",
       "Name: region, dtype: int64"
      ]
     },
     "execution_count": 86,
     "metadata": {},
     "output_type": "execute_result"
    }
   ],
   "source": [
    "data['region'].value_counts()"
   ]
  },
  {
   "cell_type": "markdown",
   "id": "715d607d",
   "metadata": {},
   "source": [
    "**Conclusion** : Good timing, bad accuracy and deprecated region system"
   ]
  },
  {
   "cell_type": "markdown",
   "id": "29fc4591",
   "metadata": {},
   "source": [
    "## Using Shapefile: (NOT DYNAMIC BUT EFFICIENT)"
   ]
  },
  {
   "cell_type": "code",
   "execution_count": 113,
   "id": "2102a1a5",
   "metadata": {},
   "outputs": [],
   "source": [
    "start = time.time()\n",
    "# Open the shapefile\n",
    "regions = gpd.GeoDataFrame.from_file('geojson_MA.json')\n",
    "\n",
    "data = pd.read_csv('part-00000-tid-8332875100528777397-6a3a4d7b-235c-49d9-b1f1-ce1deeaa1f25-3667-1-c000.csv')\n",
    "data['coords'] = list(zip(data['lng'],data['lat']))\n",
    "data['coords'] = data['coords'].apply(Point)\n",
    "datageo = gpd.GeoDataFrame(data, geometry='coords', crs=regions.crs)\n",
    "\n",
    "# Perform spatial join to match points and polygons\n",
    "datageo = gpd.tools.sjoin(datageo, regions, predicate=\"within\", how='left')\n",
    "datageo.drop(columns={'coords','index_right','cartodb_id'},inplace=True)\n",
    "end = time.time()"
   ]
  },
  {
   "cell_type": "code",
   "execution_count": 114,
   "id": "0195caa6",
   "metadata": {},
   "outputs": [
    {
     "data": {
      "text/plain": [
       "2.4595701694488525"
      ]
     },
     "execution_count": 114,
     "metadata": {},
     "output_type": "execute_result"
    }
   ],
   "source": [
    "end-start"
   ]
  },
  {
   "cell_type": "code",
   "execution_count": 115,
   "id": "2cef2a23",
   "metadata": {},
   "outputs": [
    {
     "data": {
      "text/html": [
       "<div>\n",
       "<style scoped>\n",
       "    .dataframe tbody tr th:only-of-type {\n",
       "        vertical-align: middle;\n",
       "    }\n",
       "\n",
       "    .dataframe tbody tr th {\n",
       "        vertical-align: top;\n",
       "    }\n",
       "\n",
       "    .dataframe thead th {\n",
       "        text-align: right;\n",
       "    }\n",
       "</style>\n",
       "<table border=\"1\" class=\"dataframe\">\n",
       "  <thead>\n",
       "    <tr style=\"text-align: right;\">\n",
       "      <th></th>\n",
       "      <th>categoryName</th>\n",
       "      <th>title</th>\n",
       "      <th>lat</th>\n",
       "      <th>lng</th>\n",
       "      <th>city</th>\n",
       "      <th>reviewsCount</th>\n",
       "      <th>source</th>\n",
       "      <th>category</th>\n",
       "      <th>region</th>\n",
       "    </tr>\n",
       "  </thead>\n",
       "  <tbody>\n",
       "    <tr>\n",
       "      <th>0</th>\n",
       "      <td>Magasin de cosmétiques</td>\n",
       "      <td>Medipromo</td>\n",
       "      <td>35.752776</td>\n",
       "      <td>-5.831695</td>\n",
       "      <td>Tanger</td>\n",
       "      <td>16.0</td>\n",
       "      <td>Google_places</td>\n",
       "      <td>BoutiqueOrLocalShop</td>\n",
       "      <td>Tanger-Tétouan-Al Hoceïma</td>\n",
       "    </tr>\n",
       "    <tr>\n",
       "      <th>1</th>\n",
       "      <td>Pharmacie</td>\n",
       "      <td>Pharmacie de la Santé</td>\n",
       "      <td>35.758273</td>\n",
       "      <td>-5.801484</td>\n",
       "      <td>Tanger</td>\n",
       "      <td>5.0</td>\n",
       "      <td>Google_places</td>\n",
       "      <td>Pharmacy</td>\n",
       "      <td>Tanger-Tétouan-Al Hoceïma</td>\n",
       "    </tr>\n",
       "    <tr>\n",
       "      <th>2</th>\n",
       "      <td>Mosque</td>\n",
       "      <td>MOSQUEE AL FAJR</td>\n",
       "      <td>34.661905</td>\n",
       "      <td>-1.888478</td>\n",
       "      <td>Oujda</td>\n",
       "      <td>27.0</td>\n",
       "      <td>Google_places</td>\n",
       "      <td>Mosque</td>\n",
       "      <td>L'Oriental</td>\n",
       "    </tr>\n",
       "    <tr>\n",
       "      <th>3</th>\n",
       "      <td>Pharmacie</td>\n",
       "      <td>Pharmacie de la croix d'or</td>\n",
       "      <td>33.585810</td>\n",
       "      <td>-7.638556</td>\n",
       "      <td>Casablanca</td>\n",
       "      <td>10.0</td>\n",
       "      <td>Google_places</td>\n",
       "      <td>Pharmacy</td>\n",
       "      <td>Casablanca-Settat</td>\n",
       "    </tr>\n",
       "    <tr>\n",
       "      <th>4</th>\n",
       "      <td>Restaurant</td>\n",
       "      <td>Restaurant Les Blancs</td>\n",
       "      <td>30.423927</td>\n",
       "      <td>-9.615397</td>\n",
       "      <td>Agadir</td>\n",
       "      <td>666.0</td>\n",
       "      <td>Google_places</td>\n",
       "      <td>Restaurant</td>\n",
       "      <td>Souss-Massa</td>\n",
       "    </tr>\n",
       "    <tr>\n",
       "      <th>...</th>\n",
       "      <td>...</td>\n",
       "      <td>...</td>\n",
       "      <td>...</td>\n",
       "      <td>...</td>\n",
       "      <td>...</td>\n",
       "      <td>...</td>\n",
       "      <td>...</td>\n",
       "      <td>...</td>\n",
       "      <td>...</td>\n",
       "    </tr>\n",
       "    <tr>\n",
       "      <th>24266</th>\n",
       "      <td>Café et restaurant de grillades</td>\n",
       "      <td>Cafe Snack Rahba Kedima</td>\n",
       "      <td>31.628858</td>\n",
       "      <td>-7.986880</td>\n",
       "      <td>Marrakech</td>\n",
       "      <td>95.0</td>\n",
       "      <td>Google_places</td>\n",
       "      <td>CafeOrTeahouse</td>\n",
       "      <td>Marrakech-Safi</td>\n",
       "    </tr>\n",
       "    <tr>\n",
       "      <th>24267</th>\n",
       "      <td>Restaurant</td>\n",
       "      <td>Cabaret Cavalli Oriental marrakech sky armani</td>\n",
       "      <td>31.626928</td>\n",
       "      <td>-8.017685</td>\n",
       "      <td>Marrakech</td>\n",
       "      <td>5.0</td>\n",
       "      <td>Google_places</td>\n",
       "      <td>Restaurant</td>\n",
       "      <td>Marrakech-Safi</td>\n",
       "    </tr>\n",
       "    <tr>\n",
       "      <th>24268</th>\n",
       "      <td>Restaurant marocain</td>\n",
       "      <td>Abdul Rahman</td>\n",
       "      <td>34.064519</td>\n",
       "      <td>-4.978933</td>\n",
       "      <td>Fès</td>\n",
       "      <td>37.0</td>\n",
       "      <td>Google_places</td>\n",
       "      <td>Restaurant</td>\n",
       "      <td>Fès-Meknès</td>\n",
       "    </tr>\n",
       "    <tr>\n",
       "      <th>24269</th>\n",
       "      <td>Restaurant</td>\n",
       "      <td>Soussi Restaurant</td>\n",
       "      <td>35.786443</td>\n",
       "      <td>-5.812002</td>\n",
       "      <td>Tanger</td>\n",
       "      <td>29.0</td>\n",
       "      <td>Google_places</td>\n",
       "      <td>Restaurant</td>\n",
       "      <td>Tanger-Tétouan-Al Hoceïma</td>\n",
       "    </tr>\n",
       "    <tr>\n",
       "      <th>24270</th>\n",
       "      <td>Centre culturel</td>\n",
       "      <td>Centre Culturel Abdellah Guennoun</td>\n",
       "      <td>33.551422</td>\n",
       "      <td>-7.597356</td>\n",
       "      <td>Casablanca</td>\n",
       "      <td>20.0</td>\n",
       "      <td>Google_places</td>\n",
       "      <td>Culture</td>\n",
       "      <td>Casablanca-Settat</td>\n",
       "    </tr>\n",
       "  </tbody>\n",
       "</table>\n",
       "<p>24271 rows × 9 columns</p>\n",
       "</div>"
      ],
      "text/plain": [
       "                          categoryName  \\\n",
       "0               Magasin de cosmétiques   \n",
       "1                            Pharmacie   \n",
       "2                               Mosque   \n",
       "3                            Pharmacie   \n",
       "4                           Restaurant   \n",
       "...                                ...   \n",
       "24266  Café et restaurant de grillades   \n",
       "24267                       Restaurant   \n",
       "24268              Restaurant marocain   \n",
       "24269                       Restaurant   \n",
       "24270                  Centre culturel   \n",
       "\n",
       "                                               title        lat       lng  \\\n",
       "0                                          Medipromo  35.752776 -5.831695   \n",
       "1                              Pharmacie de la Santé  35.758273 -5.801484   \n",
       "2                                    MOSQUEE AL FAJR  34.661905 -1.888478   \n",
       "3                         Pharmacie de la croix d'or  33.585810 -7.638556   \n",
       "4                              Restaurant Les Blancs  30.423927 -9.615397   \n",
       "...                                              ...        ...       ...   \n",
       "24266                        Cafe Snack Rahba Kedima  31.628858 -7.986880   \n",
       "24267  Cabaret Cavalli Oriental marrakech sky armani  31.626928 -8.017685   \n",
       "24268                                   Abdul Rahman  34.064519 -4.978933   \n",
       "24269                              Soussi Restaurant  35.786443 -5.812002   \n",
       "24270              Centre Culturel Abdellah Guennoun  33.551422 -7.597356   \n",
       "\n",
       "             city  reviewsCount         source             category  \\\n",
       "0          Tanger          16.0  Google_places  BoutiqueOrLocalShop   \n",
       "1          Tanger           5.0  Google_places             Pharmacy   \n",
       "2           Oujda          27.0  Google_places               Mosque   \n",
       "3      Casablanca          10.0  Google_places             Pharmacy   \n",
       "4          Agadir         666.0  Google_places           Restaurant   \n",
       "...           ...           ...            ...                  ...   \n",
       "24266   Marrakech          95.0  Google_places       CafeOrTeahouse   \n",
       "24267   Marrakech           5.0  Google_places           Restaurant   \n",
       "24268         Fès          37.0  Google_places           Restaurant   \n",
       "24269      Tanger          29.0  Google_places           Restaurant   \n",
       "24270  Casablanca          20.0  Google_places              Culture   \n",
       "\n",
       "                          region  \n",
       "0      Tanger-Tétouan-Al Hoceïma  \n",
       "1      Tanger-Tétouan-Al Hoceïma  \n",
       "2                     L'Oriental  \n",
       "3              Casablanca-Settat  \n",
       "4                    Souss-Massa  \n",
       "...                          ...  \n",
       "24266             Marrakech-Safi  \n",
       "24267             Marrakech-Safi  \n",
       "24268                 Fès-Meknès  \n",
       "24269  Tanger-Tétouan-Al Hoceïma  \n",
       "24270          Casablanca-Settat  \n",
       "\n",
       "[24271 rows x 9 columns]"
      ]
     },
     "execution_count": 115,
     "metadata": {},
     "output_type": "execute_result"
    }
   ],
   "source": [
    "datageo"
   ]
  },
  {
   "cell_type": "markdown",
   "id": "eb2d8d39",
   "metadata": {},
   "source": [
    "2.16 Seconds for 24271 row ! LET'S GO !"
   ]
  },
  {
   "cell_type": "markdown",
   "id": "8d534f3a",
   "metadata": {},
   "source": [
    "**conclusion** : Not Dynamic, but Efficient ! "
   ]
  }
 ],
 "metadata": {
  "kernelspec": {
   "display_name": "Python 3 (ipykernel)",
   "language": "python",
   "name": "python3"
  },
  "language_info": {
   "codemirror_mode": {
    "name": "ipython",
    "version": 3
   },
   "file_extension": ".py",
   "mimetype": "text/x-python",
   "name": "python",
   "nbconvert_exporter": "python",
   "pygments_lexer": "ipython3",
   "version": "3.9.12"
  }
 },
 "nbformat": 4,
 "nbformat_minor": 5
}
